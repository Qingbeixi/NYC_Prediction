{
 "cells": [
  {
   "cell_type": "code",
   "execution_count": 1,
   "metadata": {},
   "outputs": [],
   "source": [
    "import numpy as np\n",
    "import pandas as pd\n",
    "from matplotlib import pyplot as plt\n",
    "import seaborn as sns"
   ]
  },
  {
   "cell_type": "code",
   "execution_count": 2,
   "metadata": {},
   "outputs": [],
   "source": [
    "from sklearn.ensemble import RandomForestRegressor\n",
    "from sklearn.ensemble import RandomForestClassifier\n",
    "from sklearn.metrics import classification_report as clr\n",
    "from sklearn.linear_model import LogisticRegression\n",
    "from sklearn.decomposition import PCA\n",
    "from sklearn.model_selection import train_test_split\n",
    "from sklearn.preprocessing import StandardScaler\n",
    "from sklearn.model_selection import GridSearchCV\n",
    "from sklearn.model_selection import RandomizedSearchCV\n",
    "import time\n",
    "from  sklearn.metrics import log_loss\n",
    "from sklearn.svm import SVC"
   ]
  },
  {
   "cell_type": "code",
   "execution_count": 3,
   "metadata": {},
   "outputs": [],
   "source": [
    "import warnings\n",
    "warnings.filterwarnings('ignore')"
   ]
  },
  {
   "cell_type": "code",
   "execution_count": 4,
   "metadata": {},
   "outputs": [],
   "source": [
    "from pyspark.sql import SparkSession as sc"
   ]
  },
  {
   "cell_type": "code",
   "execution_count": 24,
   "metadata": {},
   "outputs": [
    {
     "name": "stdout",
     "output_type": "stream",
     "text": [
      "+---+---------+-------------+------+\n",
      "| id|person_id|trip_distance|  mode|\n",
      "+---+---------+-------------+------+\n",
      "|  0|        0|         13.4|subway|\n",
      "|  1|        0|          3.7| drive|\n",
      "|  2|        0|          9.8| drive|\n",
      "|  3|        0|         11.1| drive|\n",
      "|  4|        0|          2.5| drive|\n",
      "+---+---------+-------------+------+\n",
      "only showing top 5 rows\n",
      "\n"
     ]
    }
   ],
   "source": [
    "spark = sc \\\n",
    "    .builder \\\n",
    "    .appName(\"Python Spark SQL basic example\") \\\n",
    "    .config(\"spark.some.config.option\", \"some-value\") \\\n",
    "    .getOrCreate()\n",
    "df = spark.read.csv('nyc_train_validate.csv',header=True,inferSchema =True)\n",
    "df.createOrReplaceTempView('gugugu')\n",
    "df_show = spark.sql('SELECT id,person_id,trip_distance,mode FROM gugugu')\n",
    "df_show.show(5)"
   ]
  },
  {
   "cell_type": "code",
   "execution_count": 25,
   "metadata": {},
   "outputs": [
    {
     "name": "stdout",
     "output_type": "stream",
     "text": [
      "+---------+------------------+\n",
      "|person_id|           avg_dis|\n",
      "+---------+------------------+\n",
      "|      148|4.4837837837837835|\n",
      "|      463|1.1588235294117646|\n",
      "|      471|0.4000000000000001|\n",
      "|      496|0.3793103448275861|\n",
      "|      833|              0.24|\n",
      "+---------+------------------+\n",
      "only showing top 5 rows\n",
      "\n"
     ]
    }
   ],
   "source": [
    "spark.sql('SELECT person_id, AVG(trip_distance) as avg_dis FROM gugugu GROUP BY person_id ').show(5)"
   ]
  },
  {
   "cell_type": "code",
   "execution_count": null,
   "metadata": {},
   "outputs": [],
   "source": []
  },
  {
   "cell_type": "markdown",
   "metadata": {},
   "source": [
    "## Task - predicting the choice of transport mode for different people with the trip"
   ]
  },
  {
   "cell_type": "markdown",
   "metadata": {},
   "source": [
    "# 1 initial exploration"
   ]
  },
  {
   "cell_type": "markdown",
   "metadata": {},
   "source": [
    "- Identify quality issues (e.g. missing values, wrong measurements, …)\n",
    "\n",
    "- Assess feature quality – how relevant is a certain measurement (e.g. use correlation matrix)\n",
    "\n",
    "- Get an idea on the value distribution of your data using statistical measures and visualizations"
   ]
  },
  {
   "cell_type": "markdown",
   "metadata": {},
   "source": [
    "### 1.1 quality identification"
   ]
  },
  {
   "cell_type": "code",
   "execution_count": 32,
   "metadata": {},
   "outputs": [
    {
     "data": {
      "text/plain": [
       "['travel_date', 'survey_language', 'disability', 'trip_distance', 'mode']"
      ]
     },
     "execution_count": 32,
     "metadata": {},
     "output_type": "execute_result"
    }
   ],
   "source": [
    "# Here we present all the columns we have\n",
    "[x[0] for x in df.dtypes if x[1]!='int']"
   ]
  },
  {
   "cell_type": "code",
   "execution_count": 27,
   "metadata": {},
   "outputs": [
    {
     "name": "stdout",
     "output_type": "stream",
     "text": [
      "person_id\n",
      "o_purpose_category\n",
      "license\n",
      "planning_apps\n",
      "industry\n",
      "gender\n",
      "education\n",
      "res_type\n",
      "rent_own\n",
      "income_aggregate\n"
     ]
    }
   ],
   "source": [
    "for i in list(df.columns):\n",
    "    if df[df[i] == -9998].count() != 0: # The missing value is filled with -9998\n",
    "        print(i)"
   ]
  },
  {
   "cell_type": "markdown",
   "metadata": {},
   "source": [
    "### 1.2 feature quality assessment"
   ]
  },
  {
   "cell_type": "code",
   "execution_count": 9,
   "metadata": {},
   "outputs": [],
   "source": [
    "# df_data = pd.read_csv('nyc_train_validate.csv')\n",
    "# from pyspark.ml.linalg import Vectors\n",
    "# from pyspark.ml.stat import Correlation"
   ]
  },
  {
   "cell_type": "code",
   "execution_count": 33,
   "metadata": {},
   "outputs": [],
   "source": [
    "df_data = df.toPandas()"
   ]
  },
  {
   "cell_type": "code",
   "execution_count": 34,
   "metadata": {},
   "outputs": [
    {
     "data": {
      "text/plain": [
       "<AxesSubplot:>"
      ]
     },
     "execution_count": 34,
     "metadata": {},
     "output_type": "execute_result"
    },
    {
     "data": {
      "image/png": "[encoded data removed]",
      "text/plain": [
       "<Figure size 432x288 with 2 Axes>"
      ]
     },
     "metadata": {
      "needs_background": "light"
     },
     "output_type": "display_data"
    }
   ],
   "source": [
    "sns.heatmap(df_data.corr(),cmap=\"PiYG\")"
   ]
  },
  {
   "cell_type": "markdown",
   "metadata": {},
   "source": [
    "### 1.3 value distribution"
   ]
  },
  {
   "cell_type": "code",
   "execution_count": 35,
   "metadata": {},
   "outputs": [
    {
     "data": {
      "image/png": "[encoded data removed]",
      "text/plain": [
       "<Figure size 576x576 with 4 Axes>"
      ]
     },
     "metadata": {
      "needs_background": "light"
     },
     "output_type": "display_data"
    }
   ],
   "source": [
    "# we would like to see if the distribution of some value is biased\n",
    "fig, axes = plt.subplots(2, 2, figsize=(8, 8))\n",
    "for n,i in enumerate(['license','gender','education','rent_own']):\n",
    "    row = int(n/2)\n",
    "    col = n%2\n",
    "\n",
    "    data = df_data[i].drop(index= df_data[i][df_data[i]==-9998].index)\n",
    "    data_dict = dict(data.value_counts())\n",
    "    keys = list(data_dict.keys())\n",
    "    values = list(data_dict.values())\n",
    "\n",
    "    axes[row][col].set_title(i)\n",
    "    sns.barplot(ax=axes[row][col] ,x = keys, y = values)"
   ]
  },
  {
   "cell_type": "code",
   "execution_count": null,
   "metadata": {},
   "outputs": [],
   "source": []
  },
  {
   "cell_type": "markdown",
   "metadata": {},
   "source": [
    "# 2 ETL (extract transform load)"
   ]
  },
  {
   "cell_type": "markdown",
   "metadata": {},
   "source": [
    "accessing the data source, transforming it in a way it can be easily worked with and finally make it available to downstream analytics processes – either real-time streaming or batch ones"
   ]
  },
  {
   "cell_type": "code",
   "execution_count": 60,
   "metadata": {},
   "outputs": [
    {
     "name": "stdout",
     "output_type": "stream",
     "text": [
      "39498 36\n"
     ]
    }
   ],
   "source": [
    "# since the data samples is already a dataframe, it's very convenient to process. The rows represents the sample and cols for the features.\n",
    "print(df.count(),len(df.columns))"
   ]
  },
  {
   "cell_type": "code",
   "execution_count": null,
   "metadata": {},
   "outputs": [],
   "source": [
    "# The feature preprocess for machine learning and deep learning module are written seperately in each module"
   ]
  },
  {
   "cell_type": "markdown",
   "metadata": {},
   "source": [
    "# 3 Feature Creation"
   ]
  },
  {
   "cell_type": "markdown",
   "metadata": {},
   "source": [
    "### 3.1 Data Cleansing"
   ]
  },
  {
   "cell_type": "code",
   "execution_count": 62,
   "metadata": {},
   "outputs": [
    {
     "data": {
      "text/plain": [
       "array([   0,    1,    2, ..., 1792, 1793, 1794], dtype=int64)"
      ]
     },
     "execution_count": 62,
     "metadata": {},
     "output_type": "execute_result"
    }
   ],
   "source": [
    "# In the initial exploration, we find some features are biased. We do not want our model to overfit the specific type in the features and ignore others.\n",
    "# Especially for the person id, in this way, we will seperate the training set, validation set and test set based on the person_id.\n",
    "df_data.person_id.unique()"
   ]
  },
  {
   "cell_type": "code",
   "execution_count": 16,
   "metadata": {},
   "outputs": [],
   "source": [
    "def train_val_test_split(df_data, search_columns):\n",
    "\n",
    "    df_train = df_data[df_data.person_id < 1300]\n",
    "    df_mid = df_data[df_data.person_id < 1600]\n",
    "    df_val = df_mid[df_mid.person_id >= 1300]\n",
    "    df_test = df_data[df_data.person_id >= 1600]\n",
    "\n",
    "    return df_train,df_val,df_test\n"
   ]
  },
  {
   "cell_type": "code",
   "execution_count": 19,
   "metadata": {},
   "outputs": [],
   "source": [
    "# The next thing to deal is transfer the datatime object from time series to dayweek\n",
    "date_time = pd.to_datetime(df_data['travel_date'], format='%d/%m/%Y').dt.dayofweek # change week time\n",
    "df_data['travel_date'] = date_time"
   ]
  },
  {
   "cell_type": "code",
   "execution_count": 20,
   "metadata": {},
   "outputs": [],
   "source": [
    "def transform_mode(x):\n",
    "    if x=='walk':\n",
    "        x = 0\n",
    "    elif x=='drive':\n",
    "        x = 1\n",
    "    elif x == 'subway':\n",
    "        x = 2\n",
    "    elif x == 'bus':\n",
    "        x = 3\n",
    "    elif x == 'passenger':\n",
    "        x = 4\n",
    "    elif x == 'bike':\n",
    "        x = 5\n",
    "    elif x == 'other':\n",
    "        x = 6\n",
    "    else:\n",
    "        x = 7\n",
    "    return x\n",
    "\n",
    "df_data['mode'] = df_data['mode'].apply(transform_mode)"
   ]
  },
  {
   "cell_type": "markdown",
   "metadata": {},
   "source": [
    "### 3.2 Feature Engineering"
   ]
  },
  {
   "cell_type": "markdown",
   "metadata": {},
   "source": [
    "#### 3.2.1 one-hot encoding"
   ]
  },
  {
   "cell_type": "code",
   "execution_count": 21,
   "metadata": {},
   "outputs": [],
   "source": [
    "def Get_D(name,data):\n",
    "    \"\"\"Apply getting dummies method to change the categorical features\n",
    "\n",
    "    Args:\n",
    "        name (string): the column name of the categorical feature\n",
    "        data (dataframe): the input dataset\n",
    "\n",
    "    Returns:\n",
    "        dataframe: the dataframe after changing the categorical features\n",
    "    \"\"\"\n",
    "    res = pd.get_dummies(data[name]).rename(columns=lambda x:name+'_' +str(x))\n",
    "    data = data.join(res)\n",
    "    data.drop(columns=[name], inplace=True)\n",
    "    return data\n"
   ]
  },
  {
   "cell_type": "markdown",
   "metadata": {},
   "source": [
    "#### 3.2.2 dealing with missing value and over all preprocess"
   ]
  },
  {
   "cell_type": "code",
   "execution_count": 22,
   "metadata": {},
   "outputs": [],
   "source": [
    "# Since the missing value is due to the unwilliness of respondents, we though it might represent 'something', and we keep it as a feature\n",
    "\n",
    "from encodings import search_function\n",
    "\n",
    "\n",
    "def pre_process_train(data):\n",
    "\n",
    "    \"\"\"\n",
    "    preprocess the train data.\n",
    "    data : train_data, dataframe object\n",
    "    \"\"\"\n",
    "\n",
    "    # get dummies of categorical column\n",
    "    names=['travel_date','survey_language','disability','o_location_type','d_location_type','res_type',\n",
    "    'rent_own','o_purpose_category','d_purpose_category','age','employment','student','planning_apps','industry','gender','education','income_aggregate']\n",
    "    \n",
    "    for name in names:\n",
    "        data = Get_D(name,data)\n",
    "    \n",
    "    data.drop(columns=['id','trip_n'], inplace=True) # keep person_id for spliting\n",
    "\n",
    "    search_columns = data.columns.drop(['mode','person_id'])\n",
    "\n",
    "    return data,search_columns"
   ]
  },
  {
   "cell_type": "markdown",
   "metadata": {},
   "source": [
    "#### 3.2.3 Scaling/Normalizing"
   ]
  },
  {
   "cell_type": "code",
   "execution_count": 23,
   "metadata": {},
   "outputs": [],
   "source": [
    "def feature_normal(df_data, search_columns):\n",
    "\n",
    "    # Here we also split train and val based on different person id\n",
    "    df_train,df_val,df_test = train_val_test_split(df_data, search_columns)\n",
    "\n",
    "\n",
    "    X_train = df_train[search_columns]\n",
    "    X_val = df_val[search_columns]\n",
    "    X_test = df_test[search_columns]\n",
    "    y_train = df_train['mode']\n",
    "    y_val = df_val['mode']\n",
    "    y_test = df_test['mode']\n",
    "\n",
    "    \n",
    "    sc = StandardScaler()\n",
    "    sc.fit(X_train)\n",
    "    X_train_std = sc.transform(X_train)\n",
    "    X_val_std = sc.transform(X_val)\n",
    "    X_test_std = sc.transform(X_test)\n",
    "\n",
    "    return X_train_std, X_val_std, X_test_std ,y_train, y_val, y_test"
   ]
  },
  {
   "cell_type": "markdown",
   "metadata": {},
   "source": [
    "#### 3.2.4 PCA analysis "
   ]
  },
  {
   "cell_type": "code",
   "execution_count": 24,
   "metadata": {},
   "outputs": [
    {
     "data": {
      "text/plain": [
       "137"
      ]
     },
     "execution_count": 24,
     "metadata": {},
     "output_type": "execute_result"
    }
   ],
   "source": [
    "data,search_columns = pre_process_train(df_data)\n",
    "X_train_std, X_val_std, X_test_std ,y_train, y_val, y_test = feature_normal(data, search_columns)\n",
    "len(search_columns)"
   ]
  },
  {
   "cell_type": "code",
   "execution_count": 25,
   "metadata": {},
   "outputs": [],
   "source": [
    "# In general, applying PCA before building a model will NOT help to make the model perform better (in terms of accuracy)!\n",
    "\n",
    "# This is because PCA is an algorithm that does not consider the response variable / prediction target into account. \n",
    "# PCA will treat the feature has large variance as important features, but the feature has large variance can have noting to do with the prediction target.\n",
    "\n",
    "# This means, you can produce a lot of useless features and eliminate useful features after PCA."
   ]
  },
  {
   "cell_type": "code",
   "execution_count": 26,
   "metadata": {},
   "outputs": [
    {
     "data": {
      "image/png": "[encoded data removed]",
      "text/plain": [
       "<Figure size 432x288 with 1 Axes>"
      ]
     },
     "metadata": {
      "needs_background": "light"
     },
     "output_type": "display_data"
    }
   ],
   "source": [
    "# Instantiate PCA\n",
    "#\n",
    "pca = PCA()\n",
    "#\n",
    "# Determine transformed features\n",
    "#\n",
    "X_train_pca = pca.fit_transform(X_train_std)\n",
    "#\n",
    "# Determine explained variance using explained_variance_ration_ attribute\n",
    "#\n",
    "exp_var_pca = pca.explained_variance_ratio_\n",
    "#\n",
    "# Cumulative sum of eigenvalues; This will be used to create step plot\n",
    "# for visualizing the variance explained by each principal component.\n",
    "#\n",
    "cum_sum_eigenvalues = np.cumsum(exp_var_pca)\n",
    "#\n",
    "# Create the visualization plot\n",
    "#\n",
    "plt.bar(range(0,len(exp_var_pca)), exp_var_pca, alpha=0.5, align='center', label='Individual explained variance')\n",
    "plt.step(range(0,len(cum_sum_eigenvalues)), cum_sum_eigenvalues, where='mid',label='Cumulative explained variance')\n",
    "plt.ylabel('Explained variance ratio')\n",
    "plt.xlabel('Principal component index')\n",
    "plt.legend(loc='best')\n",
    "plt.tight_layout()\n",
    "plt.show()"
   ]
  },
  {
   "cell_type": "code",
   "execution_count": 27,
   "metadata": {},
   "outputs": [],
   "source": [
    "# from the figure below, we can project the dimenshion from 137 to 117\n",
    "\n",
    "pca = PCA(n_components=117)\n",
    "X_train_pca = pca.fit_transform(X_train_std)\n",
    "X_val_pca = pca.fit_transform(X_val_std)\n"
   ]
  },
  {
   "cell_type": "markdown",
   "metadata": {},
   "source": [
    "# 4 Model Definition"
   ]
  },
  {
   "cell_type": "markdown",
   "metadata": {},
   "source": [
    "Therefore, we will not use the feature maintained by pca analysis"
   ]
  },
  {
   "cell_type": "markdown",
   "metadata": {},
   "source": [
    "### 4.1 Machine Learning method"
   ]
  },
  {
   "cell_type": "code",
   "execution_count": 137,
   "metadata": {},
   "outputs": [
    {
     "name": "stdout",
     "output_type": "stream",
     "text": [
      "              precision    recall  f1-score   support\n",
      "\n",
      "           0       0.67      0.82      0.74      1626\n",
      "           1       0.66      0.73      0.69      1208\n",
      "           2       0.47      0.42      0.44       418\n",
      "           3       0.47      0.07      0.12       285\n",
      "           4       0.33      0.24      0.28       296\n",
      "           5       0.00      0.00      0.00        39\n",
      "           6       0.00      0.00      0.00        81\n",
      "\n",
      "    accuracy                           0.63      3953\n",
      "   macro avg       0.37      0.33      0.33      3953\n",
      "weighted avg       0.59      0.63      0.59      3953\n",
      "\n"
     ]
    }
   ],
   "source": [
    "# with SVM\n",
    "clf_svc = SVC(gamma='auto',probability=False)\n",
    "clf_svc.fit(X_train_std,y_train)\n",
    "y_test_predict = clf_svc.predict(X_test_std)\n",
    "print(clr(y_test, y_test_predict))"
   ]
  },
  {
   "cell_type": "code",
   "execution_count": 71,
   "metadata": {},
   "outputs": [
    {
     "name": "stdout",
     "output_type": "stream",
     "text": [
      "1.0480305395122715\n"
     ]
    }
   ],
   "source": [
    "# with SVM\n",
    "clf_svc = SVC(gamma='auto',probability=True)\n",
    "clf_svc.fit(X_train_std,y_train)\n",
    "print(log_loss(y_test, clf_svc.predict_proba(X_test_std)))"
   ]
  },
  {
   "cell_type": "code",
   "execution_count": 138,
   "metadata": {},
   "outputs": [
    {
     "name": "stdout",
     "output_type": "stream",
     "text": [
      "              precision    recall  f1-score   support\n",
      "\n",
      "           0       0.61      0.85      0.71      1626\n",
      "           1       0.58      0.82      0.68      1208\n",
      "           2       1.00      0.00      0.00       418\n",
      "           3       0.00      0.00      0.00       285\n",
      "           4       0.00      0.00      0.00       296\n",
      "           5       0.00      0.00      0.00        39\n",
      "           6       0.00      0.00      0.00        81\n",
      "\n",
      "    accuracy                           0.60      3953\n",
      "   macro avg       0.31      0.24      0.20      3953\n",
      "weighted avg       0.54      0.60      0.50      3953\n",
      "\n"
     ]
    }
   ],
   "source": [
    "# with the random forest\n",
    "rf_params = {\n",
    "    'n_estimators': [20,50,100],\n",
    "    'min_samples_split':[2,3,4],\n",
    "    'max_depth': [2,4], \n",
    "    'min_samples_leaf': [2,4],\n",
    "    \"bootstrap\":[True,False],\n",
    "}\n",
    "\n",
    "clf = RandomForestClassifier()\n",
    "grid = GridSearchCV(clf, rf_params, cv=5)\n",
    "grid.fit(X_train_std,y_train)\n",
    "best_param = grid.best_params_\n",
    "y_test_predict = grid.predict(X_test_std)\n",
    "print(clr(y_test,y_test_predict))"
   ]
  },
  {
   "cell_type": "code",
   "execution_count": 134,
   "metadata": {},
   "outputs": [
    {
     "name": "stdout",
     "output_type": "stream",
     "text": [
      "1.2466246117956368\n"
     ]
    }
   ],
   "source": [
    "print(log_loss(y_test,grid.predict_proba(X_test_std)))"
   ]
  },
  {
   "cell_type": "markdown",
   "metadata": {},
   "source": [
    "### 4.2 Deep Learning method"
   ]
  },
  {
   "cell_type": "code",
   "execution_count": 44,
   "metadata": {},
   "outputs": [
    {
     "name": "stdout",
     "output_type": "stream",
     "text": [
      "Simple_Net(\n",
      "  (fc1): Linear(in_features=137, out_features=200, bias=True)\n",
      "  (fc2): Linear(in_features=200, out_features=400, bias=True)\n",
      "  (fc3): Linear(in_features=400, out_features=7, bias=True)\n",
      "  (droput): Dropout(p=0.5, inplace=False)\n",
      ")\n"
     ]
    }
   ],
   "source": [
    "import torch\n",
    "import torch.nn as nn\n",
    "import torch.optim as optim\n",
    "import torch.nn.functional as F\n",
    "from torch.utils.data import Dataset, TensorDataset\n",
    "from torch.utils.data import DataLoader\n",
    "\n",
    "\n",
    "class Simple_Net(nn.Module):\n",
    "    def __init__(self):\n",
    "        super().__init__()\n",
    "        self.fc1 = nn.Linear(137,200)\n",
    "        self.fc2 = nn.Linear(200,400)\n",
    "        self.fc3 = nn.Linear(400,7)\n",
    "        self.droput = nn.Dropout(0.5)\n",
    "\n",
    "\n",
    "    def forward(self, x):\n",
    "        x = F.relu(self.fc1(x))\n",
    "        x = self.droput(x)\n",
    "        x = F.relu(self.fc2(x))\n",
    "        x = self.droput(x)\n",
    "        x = self.fc3(x)\n",
    "\n",
    "        return x\n",
    "\n",
    "\n",
    "net = Simple_Net()\n",
    "MLP_model = Simple_Net()\n",
    "print(MLP_model)"
   ]
  },
  {
   "cell_type": "code",
   "execution_count": 45,
   "metadata": {},
   "outputs": [],
   "source": [
    "class MyDataset(Dataset):\n",
    " \n",
    "  def __init__(self,x,y):\n",
    " \n",
    "    self.x_train=torch.tensor(x,dtype=torch.float)\n",
    "    self.y_train=torch.tensor(y,dtype=torch.float)\n",
    " \n",
    "  def __len__(self):\n",
    "    return len(self.y_train)\n",
    "   \n",
    "  def __getitem__(self,idx):\n",
    "    return self.x_train[idx],self.y_train[idx]"
   ]
  },
  {
   "cell_type": "code",
   "execution_count": 171,
   "metadata": {},
   "outputs": [
    {
     "name": "stdout",
     "output_type": "stream",
     "text": [
      "epoch-0   train-loss1.6398741321431265   val-loss1.572935376316309\n",
      "epoch-5   train-loss1.2653515777654119   val-loss1.2871847301721573\n",
      "epoch-10   train-loss1.0883398064308696   val-loss1.1576136983931065\n",
      "epoch-15   train-loss0.9846006706357002   val-loss1.0927610006183386\n",
      "epoch-20   train-loss0.9171846380664243   val-loss1.0699491184204817\n",
      "epoch-25   train-loss0.8649884454078145   val-loss1.0637375619262457\n",
      "epoch-30   train-loss0.8208271103600661   val-loss1.0659404136240482\n",
      "epoch-35   train-loss0.7822126348813375   val-loss1.0710848160088062\n",
      "epoch-40   train-loss0.7466372528837787   val-loss1.0815389454364777\n",
      "epoch-45   train-loss0.7139123620258437   val-loss1.0943703036755323\n"
     ]
    }
   ],
   "source": [
    "net = Simple_Net()\n",
    "MLP_model = Simple_Net()\n",
    "\n",
    "learning_rate = 1e-2\n",
    "criterion = nn.CrossEntropyLoss()\n",
    "Model_optimizer = torch.optim.SGD(MLP_model.parameters(),lr = learning_rate, weight_decay=1e-5)\n",
    "\n",
    "num_epochs = 50\n",
    "## Here we are defining the number of epochs for training our model\n",
    "validation_loss_min = np.Inf \n",
    "## Here we are initializing the tracker for minimum validation loss, setting initial \"min\" to infinity\n",
    "\n",
    "# inputs = torch.from_numpy(np.array(X_train_std)),float()\n",
    "# targets = torch.from_numpy(np.array(y_train)).float()\n",
    "train_ds = MyDataset(X_train_std, y_train.values)\n",
    "train_dl = DataLoader(train_ds, batch_size=200, shuffle=True)\n",
    "\n",
    "# val_inputs = torch.from_numpy(np.array(X_val_std)),float()\n",
    "# val_targets = torch.from_numpy(np.array(y_val)).float()\n",
    "val_train_ds = MyDataset(X_val_std, y_val.values)\n",
    "val_train_dl = DataLoader(val_train_ds, batch_size=200, shuffle=True)\n",
    "\n",
    "train_plot_loss = []\n",
    "val_plot_loss = []\n",
    "epochs = []\n",
    "\n",
    "for epoch in range(num_epochs): # monitoring the losses\n",
    "\n",
    "    training_loss = 0\n",
    "    validation_loss = 0\n",
    "    \n",
    "    for idx,(data,label) in enumerate(train_dl):\n",
    "\n",
    "        data = data\n",
    "        label = label.long()\n",
    "\n",
    "        Model_optimizer.zero_grad()\n",
    "        output = MLP_model(data)\n",
    "        loss = criterion(output,label)\n",
    "        loss.backward()\n",
    "        Model_optimizer.step()\n",
    "\n",
    "        training_loss += loss.item()\n",
    "\n",
    "    training_loss /= idx\n",
    "    \n",
    "    if epoch % 5 == 0:\n",
    "\n",
    "        MLP_model.eval()\n",
    "        with torch.no_grad():\n",
    "        \n",
    "            for idx,(val_data,val_label) in enumerate(val_train_dl):\n",
    "\n",
    "                val_data = val_data\n",
    "                val_label = val_label.long()\n",
    "\n",
    "                val_output = MLP_model(val_data) ## forward passing as in this computing the predicted outputs by passing the inputs to the model\n",
    "\n",
    "                val_loss = criterion(val_output,val_label) ## Calculating the loss\n",
    "                validation_loss += val_loss.item()\n",
    "            \n",
    "            validation_loss /= idx\n",
    "\n",
    "            train_plot_loss.append(training_loss)\n",
    "            val_plot_loss.append(validation_loss)\n",
    "            epochs.append(epoch)\n",
    "\n",
    "            print(\"epoch-{}   train-loss{}   val-loss{}\".format(epoch, training_loss,validation_loss))"
   ]
  },
  {
   "cell_type": "code",
   "execution_count": 172,
   "metadata": {},
   "outputs": [
    {
     "name": "stdout",
     "output_type": "stream",
     "text": [
      "              precision    recall  f1-score   support\n",
      "\n",
      "           0       0.74      0.78      0.76      1626\n",
      "           1       0.63      0.73      0.68      1208\n",
      "           2       0.46      0.54      0.50       418\n",
      "           3       0.49      0.12      0.20       285\n",
      "           4       0.41      0.36      0.38       296\n",
      "           5       0.00      0.00      0.00        39\n",
      "           6       0.00      0.00      0.00        81\n",
      "\n",
      "    accuracy                           0.64      3953\n",
      "   macro avg       0.39      0.36      0.36      3953\n",
      "weighted avg       0.61      0.64      0.62      3953\n",
      "\n"
     ]
    }
   ],
   "source": [
    "y_test_predict = MLP_model(torch.tensor(X_test_std).float())\n",
    "print(clr(y_test,torch.max(y_test_predict,dim=1)[1].detach().numpy()))"
   ]
  },
  {
   "cell_type": "code",
   "execution_count": 173,
   "metadata": {},
   "outputs": [],
   "source": [
    "# print(log_loss(y_test,MLP_model(torch.tensor(X_test_std).float()).detach().numpy()))"
   ]
  },
  {
   "cell_type": "code",
   "execution_count": 174,
   "metadata": {},
   "outputs": [
    {
     "name": "stdout",
     "output_type": "stream",
     "text": [
      "tensor(1.0780, grad_fn=<NllLossBackward0>)\n"
     ]
    }
   ],
   "source": [
    "print(criterion(MLP_model(torch.tensor(X_test_std).float()),torch.tensor(y_test.values)))"
   ]
  },
  {
   "cell_type": "code",
   "execution_count": 175,
   "metadata": {},
   "outputs": [
    {
     "data": {
      "text/plain": [
       "<matplotlib.legend.Legend at 0x23490635400>"
      ]
     },
     "execution_count": 175,
     "metadata": {},
     "output_type": "execute_result"
    },
    {
     "data": {
      "image/png": "[encoded data removed]",
      "text/plain": [
       "<Figure size 432x288 with 1 Axes>"
      ]
     },
     "metadata": {
      "needs_background": "light"
     },
     "output_type": "display_data"
    }
   ],
   "source": [
    "### 自己分出一个测试集\n",
    "### 按照person id 区分验证集和测试集\n",
    "### 在测试集上测试效果\n",
    "### 画loss的图\n",
    "plt.xlabel('epochs')\n",
    "plt.ylabel('cross entropy loss')\n",
    "sns.lineplot(x=epochs,y=train_plot_loss, label='train')\n",
    "sns.lineplot(x=epochs,y=val_plot_loss,label='validation')\n",
    "plt.legend()"
   ]
  },
  {
   "cell_type": "code",
   "execution_count": 127,
   "metadata": {},
   "outputs": [
    {
     "data": {
      "text/plain": [
       "Index(['travel_date_dow', 'num_non_hh_travelers', 'num_hh_travelers',\n",
       "       'num_travelers', 'o_congestion', 'd_congestion', 'license',\n",
       "       'num_bicycles', 'num_vehicles', 'num_people',\n",
       "       ...\n",
       "       'education_5', 'education_6', 'education_7', 'income_aggregate_-9998',\n",
       "       'income_aggregate_1', 'income_aggregate_2', 'income_aggregate_3',\n",
       "       'income_aggregate_4', 'income_aggregate_5', 'income_aggregate_6'],\n",
       "      dtype='object', length=137)"
      ]
     },
     "execution_count": 127,
     "metadata": {},
     "output_type": "execute_result"
    }
   ],
   "source": [
    "search_columns"
   ]
  },
  {
   "cell_type": "code",
   "execution_count": null,
   "metadata": {},
   "outputs": [],
   "source": []
  },
  {
   "cell_type": "markdown",
   "metadata": {},
   "source": [
    "# 5 Model Evaluation"
   ]
  },
  {
   "cell_type": "code",
   "execution_count": 166,
   "metadata": {},
   "outputs": [
    {
     "data": {
      "text/plain": [
       "<AxesSubplot:xlabel='classifier', ylabel='1/accuracy'>"
      ]
     },
     "execution_count": 166,
     "metadata": {},
     "output_type": "execute_result"
    },
    {
     "data": {
      "image/png": "[encoded data removed]",
      "text/plain": [
       "<Figure size 432x288 with 2 Axes>"
      ]
     },
     "metadata": {
      "needs_background": "light"
     },
     "output_type": "display_data"
    }
   ],
   "source": [
    "# for test performance\n",
    "\n",
    "from turtle import color\n",
    "\n",
    "\n",
    "x_plot = ['SVM','Random Forest', ' MLP']\n",
    "accuracy = [1/0.63,1/0.60,1/0.66] # best results stored\n",
    "log_loss = [1.07,1.25,1.05]\n",
    "\n",
    "d = {\n",
    "    '1/accuracy':accuracy,\n",
    "    'cross entropy loss': log_loss,\n",
    "    'classifier': x_plot\n",
    "\n",
    "}\n",
    "eva_data = pd.DataFrame(data=d)\n",
    "sns.lineplot(x=\"classifier\", y=\"cross entropy loss\",data=eva_data,label = 'cross entropy loss')\n",
    "ax2 = plt.twinx()\n",
    "sns.lineplot(x=\"classifier\", y=\"1/accuracy\",data=eva_data, label = '1/accuracy',ax=ax2,color='g')"
   ]
  },
  {
   "cell_type": "code",
   "execution_count": null,
   "metadata": {},
   "outputs": [],
   "source": [
    "### 加上注释，写成一份完整的报告样式，加上分析"
   ]
  }
 ],
 "metadata": {
  "kernelspec": {
   "display_name": "Python 3.8.12 ('qingjun')",
   "language": "python",
   "name": "python3"
  },
  "language_info": {
   "codemirror_mode": {
    "name": "ipython",
    "version": 3
   },
   "file_extension": ".py",
   "mimetype": "text/x-python",
   "name": "python",
   "nbconvert_exporter": "python",
   "pygments_lexer": "ipython3",
   "version": "3.8.12"
  },
  "orig_nbformat": 4,
  "vscode": {
   "interpreter": {
    "hash": "96e407f4f5fdc20601611945a3f27d54c215ab15f552e586915410c08bf73f76"
   }
  }
 },
 "nbformat": 4,
 "nbformat_minor": 2
}
